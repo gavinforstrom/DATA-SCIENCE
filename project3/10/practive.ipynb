{
 "cells": [
  {
   "cell_type": "code",
   "execution_count": null,
   "metadata": {},
   "outputs": [],
   "source": [
    "import pandas as pd\n",
    "import altair as alt\n",
    "import numpy as np\n",
    "\n",
    "dat = pd.read_csv('https://github.com/byuidatascience/data4missing/raw/master/data-raw/mtcars_missing/mtcars_missing.csv')"
   ]
  },
  {
   "cell_type": "code",
   "execution_count": null,
   "metadata": {},
   "outputs": [],
   "source": [
    "q1dat = dat\n",
    "\n",
    "q1mean = q1dat.hp.mean()\n",
    "\n",
    "q1dat.hp.replace(np.nan, q1mean, inplace= True)\n",
    "q1dat"
   ]
  },
  {
   "cell_type": "code",
   "execution_count": null,
   "metadata": {},
   "outputs": [],
   "source": [
    "mpghp = (alt.Chart(q1dat).mark_point()\n",
    "    .encode(x = alt.X('hp', axis = alt.Axis(title = 'Horse Power')),\n",
    "            y = alt.Y('mpg', axis = alt.Axis(title = 'Mile Per Gallon')))\n",
    "    .properties(\n",
    "        height = 400,\n",
    "        width = 400,\n",
    "        title = {'text': \"This is awesome\"})\n",
    ")\n",
    "mpghp.save('mpghp.png')"
   ]
  },
  {
   "cell_type": "markdown",
   "metadata": {},
   "source": [
    "Question 2"
   ]
  },
  {
   "cell_type": "code",
   "execution_count": null,
   "metadata": {},
   "outputs": [],
   "source": [
    "print(pd.crosstab(dat.cyl, dat.carb).to_markdown())"
   ]
  }
 ],
 "metadata": {
  "interpreter": {
   "hash": "987e2da346832099133f2da5dc1d8315b76c332f69043c1b3db793da68c4c466"
  },
  "kernelspec": {
   "display_name": "Python 3.9.7 64-bit",
   "name": "python3"
  },
  "language_info": {
   "codemirror_mode": {
    "name": "ipython",
    "version": 3
   },
   "file_extension": ".py",
   "mimetype": "text/x-python",
   "name": "python",
   "nbconvert_exporter": "python",
   "pygments_lexer": "ipython3",
   "version": "3.9.7"
  },
  "orig_nbformat": 4
 },
 "nbformat": 4,
 "nbformat_minor": 2
}
