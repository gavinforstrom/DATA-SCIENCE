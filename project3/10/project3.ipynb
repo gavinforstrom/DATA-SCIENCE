{
 "cells": [
  {
   "cell_type": "code",
   "execution_count": 2,
   "metadata": {},
   "outputs": [],
   "source": [
    "import datadotworld as dw\n",
    "import altair as alt\n",
    "import pandas as pd"
   ]
  },
  {
   "cell_type": "code",
   "execution_count": null,
   "metadata": {},
   "outputs": [],
   "source": [
    "##Example Query\n",
    "\n",
    "results = dw.query('byuidss/cse-250-baseball-database', \n",
    "    '''SELECT *\n",
    "    FROM allstarfull LIMIT 5''')\n",
    "\n",
    "print(results.dataframe)"
   ]
  },
  {
   "cell_type": "markdown",
   "metadata": {},
   "source": [
    "Write a SQL query to create a new dataframe about baseball players who attended BYU-Idaho. \n",
    "The new table should contain five columns: playerID, schoolID, salary, and the yearID/teamID \n",
    "associated with each salary. Order the table by salary (highest to lowest) and print out the table in your report.\n",
    "\n",
    "playerID, schoolID, salary, yearID, teamID "
   ]
  },
  {
   "cell_type": "code",
   "execution_count": null,
   "metadata": {},
   "outputs": [],
   "source": [
    "byuiplayers = dw.query('byuidss/cse-250-baseball-database', \n",
    "'''\n",
    "SELECT DISTINCT c.playerid, c.schoolid, salary, s.yearid, s.teamid\n",
    "FROM collegeplaying c\n",
    "JOIN salaries s\n",
    "ON c.playerid = s.playerid\n",
    "WHERE schoolid = \"idbyuid\"\n",
    "''')\n",
    "\n",
    "print(byuiplayers.dataframe.to_markdown(index = False))"
   ]
  },
  {
   "cell_type": "markdown",
   "metadata": {},
   "source": [
    "This three-part question requires you to calculate batting average (number of hits divided by the number of at-bats)\n",
    "\n",
    "Write an SQL query that provides playerID, yearID, and batting average for players with at least 1 at bat that year. Sort the table from highest batting average to lowest, and show the top 5 results in your report.\n",
    "\n",
    "Use the same query as above, but only include players with at least 10 at bats that year. Print the top 5 results.\n",
    "\n",
    "Now calculate the batting average for players over their entire careers (all years combined). Only include players with at least 100 at bats, and print the top 5 results."
   ]
  },
  {
   "cell_type": "code",
   "execution_count": 3,
   "metadata": {},
   "outputs": [
    {
     "name": "stdout",
     "output_type": "stream",
     "text": [
      "    PlayerID  YearID  BattingAvg\n",
      "0  meyerbi01    1913         1.0\n",
      "1  couside01    1923         1.0\n",
      "2  bowmajo01    1932         1.0\n",
      "3  plittno01    1918         1.0\n",
      "4  schalra01    1928         1.0\n"
     ]
    }
   ],
   "source": [
    "oneatbat = dw.query('byuidss/cse-250-baseball-database', \n",
    "'''\n",
    "SELECT playerid as PlayerID, yearid as YearID, SUM(h)/SUM(ab) AS BattingAvg\n",
    "FROM batting\n",
    "GROUP BY playerid, yearid\n",
    "HAVING ab >= 1\n",
    "ORDER BY battingavg desc\n",
    "LIMIT 5\n",
    "''')\n",
    "\n",
    "print(oneatbat.dataframe)"
   ]
  },
  {
   "cell_type": "code",
   "execution_count": 4,
   "metadata": {},
   "outputs": [
    {
     "name": "stdout",
     "output_type": "stream",
     "text": [
      "    PlayerID  YearID  BattingAvg\n",
      "0  nymanny01    1974    0.642857\n",
      "1  carsoma01    2013    0.636364\n",
      "2  altizda01    1910    0.600000\n",
      "3  silvech01    1948    0.571429\n",
      "4  puccige01    1930    0.562500\n"
     ]
    }
   ],
   "source": [
    "tenatbat = dw.query('byuidss/cse-250-baseball-database', \n",
    "'''\n",
    "SELECT playerid as PlayerID, yearid as YearID, h/ab AS BattingAvg\n",
    "FROM batting\n",
    "GROUP BY playerid, yearid\n",
    "HAVING ab >= 10\n",
    "ORDER BY battingavg desc\n",
    "LIMIT 5\n",
    "''')\n",
    "\n",
    "print(tenatbat.dataframe)"
   ]
  },
  {
   "cell_type": "code",
   "execution_count": 5,
   "metadata": {},
   "outputs": [
    {
     "name": "stdout",
     "output_type": "stream",
     "text": [
      "    PlayerID  Hits  AtBats  BattingAvg\n",
      "0   cobbty01  4189   11436    0.366299\n",
      "1  barnero01   860    2391    0.359682\n",
      "2  meyerle01   513    1443    0.355509\n",
      "3   kingst01    96     272    0.352941\n",
      "4  delahed01  2597    7510    0.345806\n"
     ]
    }
   ],
   "source": [
    "hundredatbat = dw.query('byuidss/cse-250-baseball-database', \n",
    "'''\n",
    "SELECT playerid as PlayerID, sum(H) as Hits, sum(AB) as AtBats, sum(H)/sum(AB) AS BattingAvg\n",
    "FROM batting\n",
    "GROUP BY playerid\n",
    "HAVING ab >= 100\n",
    "ORDER BY battingavg desc\n",
    "LIMIT 5\n",
    "''')\n",
    "\n",
    "print(hundredatbat.dataframe)"
   ]
  },
  {
   "cell_type": "markdown",
   "metadata": {},
   "source": [
    "Q3: Which league has hit more homeruns in the last decade."
   ]
  },
  {
   "cell_type": "code",
   "execution_count": null,
   "metadata": {},
   "outputs": [],
   "source": [
    "leaguehr = dw.query('byuidss/cse-250-baseball-database',\n",
    "```\n",
    "SELECT Name, sum(hr) as HomeRuns, lgid\n",
    "FROM Teams\n",
    "GROUP BY teamid\n",
    "HAVING yearid >= 2011 \n",
    "OR lgid = \"NL\" or \"AL\"\n",
    "```"
   ]
  }
 ],
 "metadata": {
  "interpreter": {
   "hash": "987e2da346832099133f2da5dc1d8315b76c332f69043c1b3db793da68c4c466"
  },
  "kernelspec": {
   "display_name": "Python 3.9.7 64-bit",
   "name": "python3"
  },
  "language_info": {
   "codemirror_mode": {
    "name": "ipython",
    "version": 3
   },
   "file_extension": ".py",
   "mimetype": "text/x-python",
   "name": "python",
   "nbconvert_exporter": "python",
   "pygments_lexer": "ipython3",
   "version": "3.9.7"
  },
  "orig_nbformat": 4
 },
 "nbformat": 4,
 "nbformat_minor": 2
}
