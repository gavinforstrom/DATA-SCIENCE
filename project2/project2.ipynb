{
 "cells": [
  {
   "cell_type": "code",
   "execution_count": null,
   "metadata": {},
   "outputs": [],
   "source": [
    "import pandas as pd\n",
    "import numpy as np \n",
    "import altair as alt"
   ]
  },
  {
   "cell_type": "code",
   "execution_count": null,
   "metadata": {},
   "outputs": [],
   "source": [
    "url = 'https://github.com/byuidatascience/data4missing/raw/master/data-raw/flights_missing/flights_missing.json'\n",
    "\n",
    "flights = pd.read_json(url)"
   ]
  },
  {
   "cell_type": "code",
   "execution_count": null,
   "metadata": {},
   "outputs": [],
   "source": [
    "namonth = flights.query('month == \"n/a\"')\n",
    "namonth.count()"
   ]
  },
  {
   "cell_type": "code",
   "execution_count": null,
   "metadata": {},
   "outputs": [],
   "source": [
    "worst = (flights\n",
    "    .groupby('airport_code')\n",
    "    .agg(total_flights = ('num_of_flights_total', sum),\n",
    "        total_delays = ('num_of_delays_total', sum),\n",
    "        total_delay_min = ('minutes_delayed_total', sum))\n",
    "    .assign(percent_delays = lambda x: x.total_delays / x.total_flights)\n",
    "    .assign(avg_delay_hrs = lambda x: (x.total_delay_min / x.total_delays) / 60)\n",
    "    .reset_index()\n",
    "    )\n",
    "\n",
    "print(worst.to_markdown(index = False))      ##Copy and paste result into report##"
   ]
  },
  {
   "cell_type": "code",
   "execution_count": null,
   "metadata": {},
   "outputs": [],
   "source": [
    "delay_hrs = (alt.Chart(worst)\n",
    "    .mark_bar().encode(\n",
    "     x = alt.X('airport_code', axis = alt.Axis(title = \"Airport\")),\n",
    "     y = alt.Y('avg_delay_hrs', axis=alt.Axis(title = \"Average Delay\")))\n",
    "    .properties(\n",
    "    height = 400,\n",
    "    width = 400,\n",
    "    title = {'text': \"Longest Delay Times\", 'subtitle': \"By Airport\"}))\n",
    "\n",
    "delay_hrs"
   ]
  },
  {
   "cell_type": "code",
   "execution_count": null,
   "metadata": {},
   "outputs": [],
   "source": [
    "delay_hrs.save('delay_hrs.png')"
   ]
  },
  {
   "cell_type": "markdown",
   "metadata": {},
   "source": [
    "Question 2\n",
    "What is the best month to fly if you want to avoid delays of any length?"
   ]
  },
  {
   "cell_type": "code",
   "execution_count": null,
   "metadata": {},
   "outputs": [],
   "source": [
    "#remove n/a columns\n",
    "flight_month = flights.query(\"month != 'n/a'\")\n",
    "\n",
    "worst2 = (flight_month\n",
    "    .groupby('month')\n",
    "    .agg(total_flights = ('num_of_flights_total', sum),\n",
    "        total_delays = ('num_of_delays_total', sum),\n",
    "        total_delay_min = ('minutes_delayed_total', sum))\n",
    "    .assign(percent_delays = lambda x: x.total_delays / x.total_flights)\n",
    "    .assign(avg_delay_hrs = lambda x: (x.total_delay_min / x.total_delays) / 60)\n",
    "    .reset_index()\n",
    "    )\n",
    "\n",
    "month_list = ['January', 'Febuary', 'March', 'April', 'May', 'June', 'July', 'August', 'September', 'October', 'November', 'December']\n",
    "\n",
    "worstmonth = (alt.Chart(worst2).mark_bar()\n",
    "    .encode(x = alt.X('month', sort = month_list, axis = alt.Axis(title = \"\")),\n",
    "            y = alt.Y('percent_delays', axis = alt.Axis(format = '%', title = \"\")))\n",
    "    .properties(\n",
    "    height = 400,\n",
    "    width = 400,\n",
    "    title = {'text': \"Percent of Flights Delayed\", 'subtitle': \"By Month\"}))\n"
   ]
  },
  {
   "cell_type": "code",
   "execution_count": null,
   "metadata": {},
   "outputs": [],
   "source": [
    "worstmonth.save('worstmonth.png')"
   ]
  },
  {
   "cell_type": "code",
   "execution_count": null,
   "metadata": {},
   "outputs": [],
   "source": [
    "#total_weather_delays = weather + 0.3 * LateAircraft + {if April-August, 0.4 * NAS else 0.65 * NAS}#\n",
    "\n",
    "#replacing -999 with NaN\n",
    "q3data = flights\n",
    "\n",
    "q3data.num_of_delays_late_aircraft.replace(-999, np.nan, inplace = True)\n",
    "\n",
    "#Calculate mean\n",
    "q3mean = q3data.num_of_delays_late_aircraft.mean()\n",
    "\n",
    "#Replace NaN with mean\n",
    "q3data.num_of_delays_late_aircraft.replace(np.nan, q3mean, inplace = True) #or q3data.num_of_delays_late_aircraft.fillna(value = q3mean, inplace = True)"
   ]
  },
  {
   "cell_type": "code",
   "execution_count": null,
   "metadata": {},
   "outputs": [],
   "source": [
    "months = [\"April\", \"May\", \"June\", \"July\", \"August\"]\n",
    "\n",
    "weather = q3data.assign(\n",
    "    severe = q3data.num_of_delays_weather,\n",
    "    mild_late = .3*q3data.num_of_delays_late_aircraft,\n",
    "    mild_nas = np.where(q3data.month.isin(months), .4 *q3data.num_of_delays_nas, .65 * q3data.num_of_delays_nas),\n",
    "    total = lambda x: x.severe + x.mild_late + x.mild_nas)"
   ]
  },
  {
   "cell_type": "code",
   "execution_count": null,
   "metadata": {},
   "outputs": [],
   "source": [
    "weatherfiltered = weather.filter(['airport_code', 'severe', 'mild_late', 'mild_nas', 'total']).head()\n",
    "\n",
    "print(weatherfiltered.to_markdown(index = False))"
   ]
  },
  {
   "cell_type": "code",
   "execution_count": null,
   "metadata": {},
   "outputs": [],
   "source": [
    "#weather_proportion = weather.assign(\n",
    "#       weather_late_proportion = weather.total / weather.num_of_flights_total)\n",
    "\n",
    "percent_delayed_w = (weather.groupby(\"airport_code\")\n",
    "  .agg(total_weather =  ('total', sum),\n",
    "      total_flights = ('num_of_flights_total', sum))\n",
    "  .assign(percent_delay_w = lambda x: x.total_weather / x.total_flights)\n",
    "  .reset_index()\n",
    ")"
   ]
  },
  {
   "cell_type": "code",
   "execution_count": null,
   "metadata": {},
   "outputs": [],
   "source": [
    "weatherpercent = (alt.Chart(percent_delayed_w).mark_bar()\n",
    "    .encode(y = alt.Y('airport_code', axis = alt.Axis(title=\"Airport Code\")),\n",
    "            x= alt.X('percent_delay_w', axis = alt.Axis(format = '%', title = \"Percent Delayed\")))\n",
    "       .properties(\n",
    "        height = 400,\n",
    "        width = 400,\n",
    "        title = {'text': \"Airport with highest percentage of late flights\", 'subtitle': \"Due to weather\"})\n",
    "        )"
   ]
  },
  {
   "cell_type": "code",
   "execution_count": null,
   "metadata": {},
   "outputs": [],
   "source": [
    "weatherpercent.save('weatherpercent.png')"
   ]
  },
  {
   "cell_type": "code",
   "execution_count": null,
   "metadata": {},
   "outputs": [],
   "source": [
    "#Fix missing data, then export as json\n",
    "replace_list = [-999, 'n/a',\"\",\"1500+\"]\n",
    "\n",
    "q5data = flights.replace(replace_list, np.nan)\n",
    "\n",
    "import json\n",
    "\n",
    "json_data = q5data.to_json(orient = \"records\")\n",
    "\n",
    "json_object = json.loads(json_data)\n",
    "json_formatted_str = json.dumps(json_object, indent = 4)\n",
    "\n",
    "print(json_formatted_str)"
   ]
  }
 ],
 "metadata": {
  "interpreter": {
   "hash": "987e2da346832099133f2da5dc1d8315b76c332f69043c1b3db793da68c4c466"
  },
  "kernelspec": {
   "display_name": "Python 3.9.7 64-bit",
   "name": "python3"
  },
  "language_info": {
   "codemirror_mode": {
    "name": "ipython",
    "version": 3
   },
   "file_extension": ".py",
   "mimetype": "text/x-python",
   "name": "python",
   "nbconvert_exporter": "python",
   "pygments_lexer": "ipython3",
   "version": "3.9.7"
  },
  "orig_nbformat": 4
 },
 "nbformat": 4,
 "nbformat_minor": 2
}
